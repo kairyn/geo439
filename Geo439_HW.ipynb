{
 "cells": [
  {
   "cell_type": "code",
   "execution_count": 1,
   "id": "3ef8bd9e-668c-42f8-9217-83db2f2110e4",
   "metadata": {},
   "outputs": [],
   "source": [
    "# Geo 439: Geophysics \n",
    "import numpy as np\n",
    "import math as m\n",
    "import pandas as pd\n",
    "import matplotlib.pyplot as plt"
   ]
  },
  {
   "cell_type": "markdown",
   "id": "7add6b68-610f-474e-a102-2d6099ae0ed2",
   "metadata": {},
   "source": [
    "# Defining Constants"
   ]
  },
  {
   "cell_type": "code",
   "execution_count": 2,
   "id": "fd665b8d-d93a-4db0-a6bb-6e2f5319d3ee",
   "metadata": {},
   "outputs": [],
   "source": [
    "m_AU = 1.496e11 #m\n",
    "\n",
    "# Astro Specific \n",
    "\n",
    "Msun = 1.9891e30 #kg #C&O\n",
    "Lsun = 3.839e26 #W\n",
    "Tesun = 5777 #K\n",
    "Rsun = 6.95508e08 #m\n",
    "\n",
    "Mearth = 5.9736e24 #kg\n",
    "Req = 6378.1e3 #m #equitorial radius\n",
    "\n",
    "Mjupiter = 1898.19e24 #kg\n",
    "ajupiter = 778.6e9 #m\n",
    "\n",
    "Rmoon = 1738.1e3 #m\n",
    "Mmoon = 0.07346e24 #kg\n",
    "amoon = 0.3844e9 #m\n",
    "Dmoon = 3347 #kg/m3\n",
    "Rmooncore = 400e3 #m\n",
    "Dmoonmantle = 3300 #kg/m3\n",
    "\n",
    "Mpluto = 1.303e22 # kg; radius \n",
    "Rpluto = 1188e3 #m and Charon (mass \n",
    "Mcharon = 1.586e21 # kg; radius \n",
    "Rcharon = 606e3 #m\n",
    "acharon = 19590e3 #m"
   ]
  },
  {
   "cell_type": "markdown",
   "id": "02565f4f-8e29-46f6-b7e2-d2e1140956f2",
   "metadata": {},
   "source": [
    "# Homework 2"
   ]
  },
  {
   "cell_type": "code",
   "execution_count": 3,
   "id": "40f5cbfd-697c-4e48-a81c-d5e533b059c7",
   "metadata": {},
   "outputs": [
    {
     "data": {
      "text/plain": [
       "'3.83810e+08'"
      ]
     },
     "execution_count": 3,
     "metadata": {},
     "output_type": "execute_result"
    }
   ],
   "source": [
    "rl = 3.841e8 #m\n",
    "e = 0.0549\n",
    "\n",
    "b = (rl**4*(1-e**2))**0.25\n",
    "a = (rl**4/(1-e**2))**0.25\n",
    "m.sqrt(a*b)\n",
    "f'{b:.5e}'"
   ]
  },
  {
   "cell_type": "code",
   "execution_count": 4,
   "id": "7c866057-c65e-4548-befe-c576e0e96154",
   "metadata": {},
   "outputs": [
    {
     "data": {
      "text/plain": [
       "'3.63287e+08'"
      ]
     },
     "execution_count": 4,
     "metadata": {},
     "output_type": "execute_result"
    }
   ],
   "source": [
    "f'{a*e:.5e}'\n",
    "\n",
    "f'{a*(1-e):.5e}'"
   ]
  },
  {
   "cell_type": "markdown",
   "id": "22c5d302-e936-49dc-99f1-69fc455d6204",
   "metadata": {},
   "source": [
    "## p2"
   ]
  },
  {
   "cell_type": "code",
   "execution_count": 5,
   "id": "51702b3c-0877-47ec-8650-1b53de09a739",
   "metadata": {},
   "outputs": [
    {
     "data": {
      "text/plain": [
       "0.0006459630559121175"
      ]
     },
     "execution_count": 5,
     "metadata": {},
     "output_type": "execute_result"
    }
   ],
   "source": [
    "Mearth*m_AU/(Msun + Mearth)/Rsun"
   ]
  },
  {
   "cell_type": "code",
   "execution_count": 6,
   "id": "48a717fc-6e84-4476-8b1b-35f783bdad9c",
   "metadata": {},
   "outputs": [
    {
     "data": {
      "text/plain": [
       "1.067286670558511"
      ]
     },
     "execution_count": 6,
     "metadata": {},
     "output_type": "execute_result"
    }
   ],
   "source": [
    "Mjupiter*ajupiter / (Msun + Mjupiter)/Rsun"
   ]
  },
  {
   "cell_type": "code",
   "execution_count": 7,
   "id": "d7328990-5d20-42fd-9641-6fa6b9094377",
   "metadata": {},
   "outputs": [
    {
     "data": {
      "text/plain": [
       "0.732147697836925"
      ]
     },
     "execution_count": 7,
     "metadata": {},
     "output_type": "execute_result"
    }
   ],
   "source": [
    "Mmoon * amoon /(Mearth + Mmoon) /Req"
   ]
  },
  {
   "cell_type": "code",
   "execution_count": 8,
   "id": "49832ec6-22e4-4948-81c6-8b20f60cf636",
   "metadata": {},
   "outputs": [
    {
     "data": {
      "text/plain": [
       "1.789339066637917"
      ]
     },
     "execution_count": 8,
     "metadata": {},
     "output_type": "execute_result"
    }
   ],
   "source": [
    "Mcharon*acharon / (Mpluto + Mcharon) /Rpluto"
   ]
  },
  {
   "cell_type": "markdown",
   "id": "ecc7e25c-0f43-4366-92ee-5e8e8cfee3b9",
   "metadata": {},
   "source": [
    "## p4"
   ]
  },
  {
   "cell_type": "code",
   "execution_count": 9,
   "id": "c0b177a8-7cef-4107-8da6-db868886fed0",
   "metadata": {},
   "outputs": [
    {
     "data": {
      "text/plain": [
       "7156.045614297296"
      ]
     },
     "execution_count": 9,
     "metadata": {},
     "output_type": "execute_result"
    }
   ],
   "source": [
    "(Rmoon/Rmooncore)**3 *(Dmoon - Dmoonmantle) + Dmoonmantle"
   ]
  },
  {
   "cell_type": "code",
   "execution_count": 10,
   "id": "e663f0d6-6666-4c05-b399-0412ddb108dd",
   "metadata": {},
   "outputs": [
    {
     "data": {
      "text/plain": [
       "7.361538714045452e+22"
      ]
     },
     "execution_count": 10,
     "metadata": {},
     "output_type": "execute_result"
    }
   ],
   "source": [
    "4/3*m.pi*(Rmoon**3 - Rmooncore**3)*Dmoonmantle + 4/3*m.pi*(Rmooncore**3)*7156.045614297296"
   ]
  },
  {
   "cell_type": "code",
   "execution_count": 11,
   "id": "32b239a0-6a70-4aec-8201-30fcfee82ba0",
   "metadata": {},
   "outputs": [
    {
     "data": {
      "text/plain": [
       "7.346e+22"
      ]
     },
     "execution_count": 11,
     "metadata": {},
     "output_type": "execute_result"
    }
   ],
   "source": [
    "Mmoon"
   ]
  },
  {
   "cell_type": "markdown",
   "id": "f93c7ab6-a0b0-49d4-b756-6d7913b85eda",
   "metadata": {},
   "source": [
    "# Homework 3"
   ]
  },
  {
   "cell_type": "markdown",
   "id": "3e845cde-9fe9-46c2-8b25-8d9920a925ac",
   "metadata": {},
   "source": [
    "## p3"
   ]
  },
  {
   "cell_type": "code",
   "execution_count": 66,
   "id": "0db586fe-f369-48cd-9b5e-4f069a0a8e39",
   "metadata": {},
   "outputs": [
    {
     "data": {
      "text/plain": [
       "array([[ 0.71063989, -1.29183453],\n",
       "       [ 0.70540391, -0.06486807],\n",
       "       [ 0.8264134 , -2.13279235],\n",
       "       [-0.56083247,  2.63922872],\n",
       "       [ 0.97302106,  0.65595291],\n",
       "       [ 0.85288423,  0.04072435],\n",
       "       [ 0.89884456, -0.00290888],\n",
       "       [ 0.62308254,  2.43938852]])"
      ]
     },
     "execution_count": 66,
     "metadata": {},
     "output_type": "execute_result"
    }
   ],
   "source": [
    "40+ 43/60\n",
    "\n",
    "deg = np.array([[40+43/60,-74-1/60],\n",
    "          [40+25/60,-3-43/60],\n",
    "          [47+21/60,-122-12/60],\n",
    "          [-33+52/60,151+13/60],\n",
    "          [55+45/60,37+35/60],\n",
    "          [48+52/60,2+20/60],\n",
    "          [51+30/60,-0-10/60],\n",
    "          [35+42/60,139+46/60]])\n",
    "\n",
    "'''\n",
    "{New York: (λ1 = 40+ 43/60, 74+ 1/60),\n",
    "Madrid: (λ2 = 40◦ 25’ N, 3+43/60)}\n",
    "(b) Seattle (λ1 = 47◦ 21’ N, ϕ1 = 122◦ 12’ W)\n",
    "Sydney (λ2 = 33◦ 52’ S, ϕ2 = 151◦ 13’ E);\n",
    "(c) Moscow (λ1 = 55◦ 45’ N, ϕ1 = 37◦ 35’ E)\n",
    "Paris (λ2 = 48◦ 52’ N, ϕ2 = 2◦ 20’ E);\n",
    "(d) London (λ1 = 51◦ 30’ N, ϕ1 = 0◦ 10’ W)\n",
    "Tokyo (λ2 = 35◦ 42’ N, ϕ2 = 139◦ 46’ E).\n",
    "'''\n",
    "\n",
    "rad = np.radians(deg)\n",
    "rad"
   ]
  },
  {
   "cell_type": "code",
   "execution_count": 30,
   "id": "01a503cc-b859-4a44-9a6f-fb2745564a83",
   "metadata": {},
   "outputs": [],
   "source": [
    "from numpy import cos, sin, sqrt"
   ]
  },
  {
   "cell_type": "code",
   "execution_count": 72,
   "id": "4f19bea6-7339-49c8-bfe4-4fc829f04e3c",
   "metadata": {},
   "outputs": [
    {
     "name": "stdout",
     "output_type": "stream",
     "text": [
      "0.9052997023509719 \n",
      "\n",
      "1.9358686285683526 \n",
      "\n",
      "0.38999975187293423 \n",
      "\n",
      "1.5009384709049003 \n",
      "\n"
     ]
    }
   ],
   "source": [
    "delta = np.zeros(4)\n",
    "\n",
    "\n",
    "for i in np.arange(0,8,2):\n",
    "    [l1,p1] = rad[i]\n",
    "    [l2,p2] = rad[i+1]\n",
    "    #print(l1,p1)\n",
    "    #print(l2,p2)\n",
    "    \n",
    "    d = np.arccos( cos(l1)*cos(l2)*cos(p2-p1) + sin(l1)*sin(l2) )\n",
    "    delta[i//2] = d\n",
    "\n",
    "    print(delta[i//2],'\\n')\n"
   ]
  },
  {
   "cell_type": "code",
   "execution_count": 71,
   "id": "9c4c56cd-a676-45c9-89fa-0eccf8ecd485",
   "metadata": {},
   "outputs": [
    {
     "data": {
      "text/plain": [
       "array([ 51.86985214, 110.91710211,  22.34533979,  85.99743969])"
      ]
     },
     "execution_count": 71,
     "metadata": {},
     "output_type": "execute_result"
    }
   ],
   "source": [
    "delta*180/np.pi"
   ]
  },
  {
   "cell_type": "code",
   "execution_count": 69,
   "id": "7031d251-9a43-4eba-8263-46e5c9e9c6e5",
   "metadata": {},
   "outputs": [
    {
     "data": {
      "text/plain": [
       "array([ 5767.66440368, 12333.41903261,  2484.68841918,  9562.47899814])"
      ]
     },
     "execution_count": 69,
     "metadata": {},
     "output_type": "execute_result"
    }
   ],
   "source": [
    "delta*6371"
   ]
  },
  {
   "cell_type": "markdown",
   "id": "50458f7b-0959-40e6-a76b-35e125eb57cc",
   "metadata": {},
   "source": [
    "## p4"
   ]
  },
  {
   "cell_type": "code",
   "execution_count": 88,
   "id": "42c9e40d-f23e-4169-9e63-955f467021ec",
   "metadata": {},
   "outputs": [
    {
     "name": "stdout",
     "output_type": "stream",
     "text": [
      "0.9052997023509719\n",
      "1.146277446606748\n",
      "65.67685984159922 \n",
      "\n",
      "1.9358686285683526\n",
      "-1.1312508863151303\n",
      "-64.81590135629067 \n",
      "\n",
      "0.38999975187293423\n",
      "-1.517775686298957\n",
      "-86.96214107250225 \n",
      "\n",
      "1.5009384709049003\n",
      "0.5515391602944593\n",
      "31.600866121061905 \n",
      "\n"
     ]
    }
   ],
   "source": [
    "head = np.zeros(4)\n",
    "\n",
    "\n",
    "for i in np.arange(0,8,2):\n",
    "    [l1,p1] = rad[i]\n",
    "    [l2,p2] = rad[i+1]\n",
    "    #print(l1,p1)\n",
    "    #print(l2,p2)\n",
    "    \n",
    "    d = np.arccos( cos(l1)*cos(l2)*cos(p2-p1) + sin(l1)*sin(l2) )\n",
    "    print(d)\n",
    "\n",
    "    [c1, c2] = [np.pi/2 - l1, np.pi/2 - l2]\n",
    "\n",
    "    head[i//2] = np.arcsin( sin(c2) * sin(p2 - p1) / sin(d))\n",
    "    print(head[i//2])\n",
    "    print(head[i//2]*180/np.pi,'\\n')\n",
    "    "
   ]
  }
 ],
 "metadata": {
  "kernelspec": {
   "display_name": "Python 3 (ipykernel)",
   "language": "python",
   "name": "python3"
  },
  "language_info": {
   "codemirror_mode": {
    "name": "ipython",
    "version": 3
   },
   "file_extension": ".py",
   "mimetype": "text/x-python",
   "name": "python",
   "nbconvert_exporter": "python",
   "pygments_lexer": "ipython3",
   "version": "3.9.18"
  }
 },
 "nbformat": 4,
 "nbformat_minor": 5
}
